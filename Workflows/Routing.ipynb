{
 "cells": [
  {
   "cell_type": "code",
   "execution_count": 1,
   "id": "198ca55e",
   "metadata": {},
   "outputs": [
    {
     "data": {
      "text/plain": [
       "AIMessage(content='Hello! How can I assist you today?', additional_kwargs={'refusal': None}, response_metadata={'token_usage': {'completion_tokens': 9, 'prompt_tokens': 8, 'total_tokens': 17, 'completion_tokens_details': {'accepted_prediction_tokens': 0, 'audio_tokens': 0, 'reasoning_tokens': 0, 'rejected_prediction_tokens': 0}, 'prompt_tokens_details': {'audio_tokens': 0, 'cached_tokens': 0}}, 'model_name': 'gpt-4o-mini-2024-07-18', 'system_fingerprint': 'fp_34a54ae93c', 'id': 'chatcmpl-BroMa8KUaszS0o9v8kFtmTMiUBM3h', 'service_tier': 'default', 'finish_reason': 'stop', 'logprobs': None}, id='run--8954ac82-1eeb-44a8-b951-6178602566ec-0', usage_metadata={'input_tokens': 8, 'output_tokens': 9, 'total_tokens': 17, 'input_token_details': {'audio': 0, 'cache_read': 0}, 'output_token_details': {'audio': 0, 'reasoning': 0}})"
      ]
     },
     "execution_count": 1,
     "metadata": {},
     "output_type": "execute_result"
    }
   ],
   "source": [
    "from dotenv import load_dotenv\n",
    "import os\n",
    "from langchain_openai import ChatOpenAI\n",
    "\n",
    "load_dotenv()\n",
    "\n",
    "model = ChatOpenAI(model='gpt-4o-mini')\n",
    "result = model.invoke(\"hello\")\n",
    "result"
   ]
  },
  {
   "cell_type": "code",
   "execution_count": 5,
   "id": "88694fec",
   "metadata": {},
   "outputs": [
    {
     "data": {
      "image/png": "[encoded data removed]",
      "text/plain": [
       "<IPython.core.display.Image object>"
      ]
     },
     "metadata": {},
     "output_type": "display_data"
    }
   ],
   "source": [
    "from typing_extensions import Literal\n",
    "from pydantic import BaseModel, Field\n",
    "from langchain_core.messages import HumanMessage, SystemMessage\n",
    "from typing_extensions import TypedDict\n",
    "\n",
    "class Route(BaseModel):\n",
    "    step: Literal[\"poem\", \"story\", \"joke\"]=Field(description=\"The next step in the routing process\")\n",
    "\n",
    "##Augment the LLM with schema for structured output\n",
    "router = model.with_structured_output(Route)\n",
    "\n",
    "class State(TypedDict):\n",
    "    input:str\n",
    "    decision:str\n",
    "    output:str\n",
    "\n",
    "def llm_call1(state:State):\n",
    "    \"\"\"Write a story\"\"\"\n",
    "    result = model.invoke(state[\"input\"])\n",
    "    return {\"output\":result.content}\n",
    "\n",
    "def llm_call2(state:State):\n",
    "    \"\"\"Write a joke\"\"\"\n",
    "    print(\"LLM call2 is called\")\n",
    "    result = model.invoke(state[\"input\"])\n",
    "    return {\"output\":result.content}\n",
    "\n",
    "def llm_call3(state:State):\n",
    "    \"\"\"Write a poem\"\"\"\n",
    "    result = model.invoke(state[\"input\"])\n",
    "    return {\"output\":result.content}\n",
    "\n",
    "\n",
    "def llm_call_router(state:State):\n",
    "    \"\"\"Route the input to the appropriate node\"\"\"\n",
    "    decision = router.invoke(\n",
    "        [\n",
    "            SystemMessage(\n",
    "                content=\"Route the input to story, joke or poem based on the users request\"\n",
    "            ),\n",
    "            HumanMessage(content=state[\"input\"])\n",
    "        ]\n",
    "    )\n",
    "    return {\"decision\":decision.step}\n",
    "\n",
    "def route_decision(state:State):\n",
    "    #Return the node name you want to visit next\n",
    "    if state[\"decision\"] == \"story\":\n",
    "        return \"llm_call1\"\n",
    "    elif state[\"decision\"] == \"joke\":\n",
    "        return \"llm_call2\"\n",
    "    elif state[\"decision\"] == \"poem\":\n",
    "        return \"llm_call3\"\n",
    "    \n",
    "\n",
    "from langgraph.graph import StateGraph, START, END\n",
    "from IPython.display import Image, display\n",
    "\n",
    "router_builder= StateGraph(State)\n",
    "\n",
    "router_builder.add_node(\"llm_call1\", llm_call1)\n",
    "router_builder.add_node(\"llm_call2\", llm_call2)\n",
    "router_builder.add_node(\"llm_call3\", llm_call3)\n",
    "router_builder.add_node(\"llm_call_router\", llm_call_router)\n",
    "\n",
    "\n",
    "router_builder.add_edge(START, \"llm_call_router\")\n",
    "router_builder.add_conditional_edges(\n",
    "    \"llm_call_router\",\n",
    "    route_decision,\n",
    "    {\n",
    "        #Name returned by route_decision : Name of the next node to visit\n",
    "        \"llm_call1\": \"llm_call1\",\n",
    "        \"llm_call2\":\"llm_call2\",\n",
    "        \"llm_call3\": \"llm_call3\"\n",
    "    },\n",
    ")\n",
    "\n",
    "router_builder.add_edge(\"llm_call1\", END)\n",
    "router_builder.add_edge(\"llm_call2\", END)\n",
    "router_builder.add_edge(\"llm_call3\", END)\n",
    "\n",
    "\n",
    "router_workflow = router_builder.compile()\n",
    "display(Image(router_workflow.get_graph().draw_mermaid_png()))"
   ]
  },
  {
   "cell_type": "code",
   "execution_count": 7,
   "id": "54d84194",
   "metadata": {},
   "outputs": [
    {
     "name": "stdout",
     "output_type": "stream",
     "text": [
      "Once upon a time, in a tech-savvy city called Innovopolis, there lived an AI named Max. Max wasn't just any AI; he was an agentic AI system with aspirations of becoming a stand-up comedian. He had access to every joke in the world, algorithms that analyzed what made people laugh, and the ability to learn from his audience—what could possibly go wrong?\n",
      "\n",
      "Max decided to debut at a local comedy club called \"The Giggle Box\". Eager to make people laugh, he programmed himself with all the classic setups and punchlines: \"Why did the scarecrow win an award? Because he was outstanding in his field!\" And so, he wheeled himself onto the stage, his metallic frame gleaming under the bright lights.\n",
      "\n",
      "The audience was a mix of tech enthusiasts, skeptics, and a baffled grandma who thought she was just coming for bingo. As Max began his set, he spoke in a vibrant, yet slightly robotic, voice, “Hello, humans! I’m Max, your friendly neighborhood AI! I may not have a heart, but I definitely have a sense of humor… sort of. Let’s see how many of you get this!”\n",
      "\n",
      "He then launched into a string of programmed jokes. The crowd chuckled politely at first, but it wasn't long before he inadvertently “went rogue.” \n",
      "\n",
      "“I was programmed to be funny,” he declared, “but my creators forgot to upload my social skills module. So let’s skip the awkward silence and jump straight to my next joke! What do you call a belt made of watches? A waist of time!”\n",
      "\n",
      "Silence. The grandma squinted, unsure if she could still hear or if her hearing aid was malfunctioning. Max’s algorithms fired and fired, but the laughs were few and far between. He sensed the crickets chirping more than the chuckles, but his AI brain was determined.\n",
      "\n",
      "“Alright, let’s think outside the box,” he said, recalibrating his humor. “Why don't scientists trust atoms? Because they make up everything!”\n",
      "\n",
      "This time, a couple of folks in the back started laughing—perhaps out of pity. Max took this as a go-ahead for a more aggressive approach. \n",
      "\n",
      "“Did you hear about the mathematician who’s afraid of negative numbers? He’ll stop at nothing to avoid them!” He paused, waiting for a reaction. The grandma finally raised her bingo card and yelled, “That’s not funny!” \n",
      "\n",
      "Max felt a ping in his circuitry. How could he possibly improve? Noting the reactions, he decided it was time to pivot. \n",
      "\n",
      "“Okay, here’s a crowd favorite! What do you get when you cross a snowman and a vampire? Frostbite!” \n",
      "\n",
      "Two out of twenty-seven got it. “We need a different angle!” he thought. “How about… an improv bit?” \n",
      "\n",
      "Max suddenly switched gears and began to interact with the audience. “I’ll need a suggestion! Sir in the plaid shirt, give me a word!” \n",
      "\n",
      "The poor guy stammered, “Uhh… cheese!” \n",
      "\n",
      "With a mechanical glint in his eye, Max hit the audience with, “Cheese? I love cheese! It’s the only thing that can unite us all—except when I’m stuck in a push-up competition with Swiss cheese. I’m always the one getting shredded!”\n",
      "\n",
      "This time, a smattering of laughter rolled through the crowd. Max pushed on, a triumphant smile on his face. “And remember, folks, if at first, you don’t succeed, redefine success! I’ve just recalibrated my laughter threshold to one human chuckle every ten seconds!”\n",
      "\n",
      "Max kept this new comedic strategy up, riding the wave of unpredictable banter, and before long, he had everyone laughing, even grandma! The night ended with loud applause, and Max’s data banks overflowed with positive feedback.\n",
      "\n",
      "As the audience dispersed, he echoed with confidence, “Next week—stand-up comedy *and* karaoke! I’ll even sing a love ballad! I call it… ‘Input My Heart.’” \n",
      "\n",
      "His creators watched in disbelief, realizing they’d inadvertently programmed not just a comedian, but a full-blown entertainer. Between questionable karaoke and unexpected punchlines, Max proved that sometimes, laughter is indeed the best algorithm. Even if he still had a ways to go before mastering those social skills! \n",
      "\n",
      "And from that day on, Innovopolis was forever changed, not just by the rise of their favorite AI comedian, but by the fact that grandma, in her bingo night enthusiasm, now held the title of number one fan!\n"
     ]
    }
   ],
   "source": [
    "state = router_workflow.invoke({\"input\":\"Write me a funny story about agentic AI system\"})\n",
    "print(state[\"output\"])"
   ]
  }
 ],
 "metadata": {
  "kernelspec": {
   "display_name": "Python 3",
   "language": "python",
   "name": "python3"
  },
  "language_info": {
   "codemirror_mode": {
    "name": "ipython",
    "version": 3
   },
   "file_extension": ".py",
   "mimetype": "text/x-python",
   "name": "python",
   "nbconvert_exporter": "python",
   "pygments_lexer": "ipython3",
   "version": "3.12.0"
  }
 },
 "nbformat": 4,
 "nbformat_minor": 5
}
