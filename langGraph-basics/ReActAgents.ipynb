{
 "cells": [
  {
   "cell_type": "code",
   "execution_count": 1,
   "id": "6c3cffd5",
   "metadata": {},
   "outputs": [],
   "source": [
    "from langchain_community.tools import ArxivQueryRun, WikipediaQueryRun\n",
    "from langchain_community.utilities import WikipediaAPIWrapper, ArxivAPIWrapper"
   ]
  },
  {
   "cell_type": "code",
   "execution_count": 3,
   "id": "4992ad78",
   "metadata": {},
   "outputs": [
    {
     "name": "stdout",
     "output_type": "stream",
     "text": [
      "arxiv\n"
     ]
    }
   ],
   "source": [
    "api_wrapper_arxiv  = ArxivAPIWrapper(top_k_results=2, doc_content_chars_max=500)\n",
    "arxiv = ArxivQueryRun(api_wrapper=api_wrapper_arxiv)\n",
    "print(arxiv.name)"
   ]
  },
  {
   "cell_type": "code",
   "execution_count": 4,
   "id": "79c08d72",
   "metadata": {},
   "outputs": [
    {
     "data": {
      "text/plain": [
       "\"Published: 2024-07-22\\nTitle: Attention Is All You Need But You Don't Need All Of It For Inference of Large Language Models\\nAuthors: Georgy Tyukin, Gbetondji J-S Dovonon, Jean Kaddour, Pasquale Minervini\\nSummary: The inference demand for LLMs has skyrocketed in recent months, and serving\\nmodels with low latencies remains challenging due to the quadratic input length\\ncomplexity of the attention layers. In this work, we investigate the effect of\\ndropping MLP and attention layers at inference time o\""
      ]
     },
     "execution_count": 4,
     "metadata": {},
     "output_type": "execute_result"
    }
   ],
   "source": [
    "arxiv.invoke(\"Attention is all you need\")"
   ]
  },
  {
   "cell_type": "code",
   "execution_count": 5,
   "id": "571d5852",
   "metadata": {},
   "outputs": [
    {
     "data": {
      "text/plain": [
       "'wikipedia'"
      ]
     },
     "execution_count": 5,
     "metadata": {},
     "output_type": "execute_result"
    }
   ],
   "source": [
    "api_wrapper_wiki = WikipediaAPIWrapper(top_k_results=1, doc_content_chars_max=500)\n",
    "wiki = WikipediaQueryRun(api_wrapper=api_wrapper_wiki)\n",
    "wiki.name"
   ]
  },
  {
   "cell_type": "code",
   "execution_count": 6,
   "id": "2305445d",
   "metadata": {},
   "outputs": [
    {
     "data": {
      "text/plain": [
       "'Page: Machine learning\\nSummary: Machine learning (ML) is a field of study in artificial intelligence concerned with the development and study of statistical algorithms that can learn from data and generalise to unseen data, and thus perform tasks without explicit instructions. Within a subdiscipline in machine learning, advances in the field of deep learning have allowed neural networks, a class of statistical algorithms, to surpass many previous machine learning approaches in performance.\\nML fi'"
      ]
     },
     "execution_count": 6,
     "metadata": {},
     "output_type": "execute_result"
    }
   ],
   "source": [
    "wiki.invoke(\"What is Machine Learning\")"
   ]
  },
  {
   "cell_type": "code",
   "execution_count": 8,
   "id": "fbab3c99",
   "metadata": {},
   "outputs": [],
   "source": [
    "from dotenv import load_dotenv\n",
    "load_dotenv()\n",
    "\n",
    "import os\n",
    "\n",
    "os.environ[\"TAVILY_API_KEY\"]=os.getenv(\"TAVILY_API_KEY\")\n",
    "os.environ[\"GROQ_API_KEY\"]=os.getenv(\"GROQ_API_KEY\")\n",
    "os.environ[\"LANGCHAIN_API_KEY\"]=os.getenv(\"LANGCHAIN_API_KEY\")\n",
    "os.environ[\"LANGCHAIN_TRACING_V2\"]=\"true\"\n",
    "os.environ[\"LANGCHAIN_PROJECT\"]=\"ReAct-Agent\""
   ]
  },
  {
   "cell_type": "code",
   "execution_count": null,
   "id": "9ea1ea47",
   "metadata": {},
   "outputs": [],
   "source": [
    "###Custom functions\n",
    "def multiply(a:int, b:int) -> int:\n",
    "    \"\"\"Multipy a and b.\n",
    "    Args:\n",
    "        a: first int\n",
    "        b: second int\n",
    "    \"\"\"\n",
    "    return a*b\n",
    "\n",
    "def add(a:int, b:int) -> int:\n",
    "    \"\"\"Adds a and b.\n",
    "    Args:\n",
    "        a: first int\n",
    "        b: second int\n",
    "    \"\"\"\n",
    "    return a+b\n",
    "\n",
    "def divide(a:int, b:int) -> int:\n",
    "    \"\"\"Divide a and b.\n",
    "    Args:\n",
    "        a: first int\n",
    "        b: second int\n",
    "    \"\"\"\n",
    "    return a / b\n",
    "\n",
    "tools = [arxiv, wiki, add, multiply, divide]"
   ]
  },
  {
   "cell_type": "code",
   "execution_count": 11,
   "id": "a15fceb2",
   "metadata": {},
   "outputs": [
    {
     "name": "stderr",
     "output_type": "stream",
     "text": [
      "C:\\Users\\asus\\AppData\\Local\\Temp\\ipykernel_6152\\735679136.py:3: LangChainDeprecationWarning: The class `TavilySearchResults` was deprecated in LangChain 0.3.25 and will be removed in 1.0. An updated version of the class exists in the :class:`~langchain-tavily package and should be used instead. To use it run `pip install -U :class:`~langchain-tavily` and import as `from :class:`~langchain_tavily import TavilySearch``.\n",
      "  tavily = TavilySearchResults()\n"
     ]
    }
   ],
   "source": [
    "from langchain_community.tools.tavily_search import TavilySearchResults\n",
    "\n",
    "tavily = TavilySearchResults()"
   ]
  },
  {
   "cell_type": "code",
   "execution_count": 12,
   "id": "8f6c159c",
   "metadata": {},
   "outputs": [],
   "source": [
    "tools = [arxiv, wiki, tavily, add, multiply, divide]"
   ]
  },
  {
   "cell_type": "code",
   "execution_count": 13,
   "id": "80800dcb",
   "metadata": {},
   "outputs": [],
   "source": [
    "from langchain_groq import ChatGroq\n",
    "\n",
    "model = ChatGroq(model=\"qwen/qwen3-32b\")\n",
    "model_with_tools = model.bind_tools(tools)"
   ]
  },
  {
   "cell_type": "code",
   "execution_count": 14,
   "id": "7560e237",
   "metadata": {},
   "outputs": [
    {
     "data": {
      "text/plain": [
       "AIMessage(content='', additional_kwargs={'reasoning_content': \"Okay, the user is asking for recent AI news. Let me see which tool I can use here. The available tools are arxiv, wikipedia, tavily_search_results_json, add, multiply, and divide. The arxiv tool is for academic papers, wikipedia for general info, and tavily_search_results_json seems like a search engine. Since the user wants recent news, maybe tavily_search_results_json is the best fit here. I'll use that to look up the latest AI news.\\n\", 'tool_calls': [{'id': '53vqdfnw0', 'function': {'arguments': '{\"query\":\"recent AI news\"}', 'name': 'tavily_search_results_json'}, 'type': 'function'}]}, response_metadata={'token_usage': {'completion_tokens': 130, 'prompt_tokens': 435, 'total_tokens': 565, 'completion_time': 0.21450298, 'prompt_time': 0.016739694, 'queue_time': 0.200623055, 'total_time': 0.231242674}, 'model_name': 'qwen/qwen3-32b', 'system_fingerprint': 'fp_8487b76fd3', 'finish_reason': 'tool_calls', 'logprobs': None}, id='run--f8f26057-cf95-43cf-9323-7b4865d5cbb1-0', tool_calls=[{'name': 'tavily_search_results_json', 'args': {'query': 'recent AI news'}, 'id': '53vqdfnw0', 'type': 'tool_call'}], usage_metadata={'input_tokens': 435, 'output_tokens': 130, 'total_tokens': 565})"
      ]
     },
     "execution_count": 14,
     "metadata": {},
     "output_type": "execute_result"
    }
   ],
   "source": [
    "from pprint import pprint\n",
    "from langchain_core.messages import AIMessage, HumanMessage\n",
    "model_with_tools.invoke([HumanMessage(content=f\"What is the recent AI News?\")])"
   ]
  },
  {
   "cell_type": "code",
   "execution_count": 15,
   "id": "c96b340f",
   "metadata": {},
   "outputs": [],
   "source": [
    "from typing_extensions import TypedDict\n",
    "from langchain_core.messages import AnyMessage\n",
    "from typing import Annotated\n",
    "from langgraph.graph.message import add_messages\n",
    "class State(TypedDict):\n",
    "    messages:Annotated[list[AnyMessage], add_messages]"
   ]
  },
  {
   "cell_type": "code",
   "execution_count": 17,
   "id": "bff6af0a",
   "metadata": {},
   "outputs": [
    {
     "data": {
      "image/png": "[encoded data removed]",
      "text/plain": [
       "<IPython.core.display.Image object>"
      ]
     },
     "metadata": {},
     "output_type": "display_data"
    }
   ],
   "source": [
    "from IPython.display import Image, display\n",
    "from langgraph.graph import StateGraph, START, END\n",
    "from langgraph.prebuilt import ToolNode\n",
    "from langgraph.prebuilt import tools_condition\n",
    "\n",
    "def tool_calling_llm(state:State):\n",
    "    return {\"messages\": [model_with_tools.invoke(state[\"messages\"])]}\n",
    "\n",
    "builder = StateGraph(State)\n",
    "builder.add_node(\"tool_calling_llm\", tool_calling_llm)\n",
    "builder.add_node(\"tools\", ToolNode(tools))\n",
    "\n",
    "builder.add_edge(START, \"tool_calling_llm\")\n",
    "builder.add_conditional_edges(\n",
    "    \"tool_calling_llm\",\n",
    "    #If the latest message(result) from assistant is a tool call -> tools_condition routes to tools\n",
    "    #If the latest message(result) from assistant is not a tool call -> tools_condition routes to END\n",
    "    tools_condition,\n",
    ")\n",
    "builder.add_edge(\"tools\", \"tool_calling_llm\")\n",
    "\n",
    "graph = builder.compile()\n",
    "\n",
    "display(Image(graph.get_graph().draw_mermaid_png()))"
   ]
  },
  {
   "cell_type": "code",
   "execution_count": 18,
   "id": "91aadf6a",
   "metadata": {},
   "outputs": [
    {
     "name": "stdout",
     "output_type": "stream",
     "text": [
      "================================\u001b[1m Human Message \u001b[0m=================================\n",
      "\n",
      "Provide me the top 10 recent AI news and add 5 plus 6 and multipy by 59\n",
      "==================================\u001b[1m Ai Message \u001b[0m==================================\n",
      "Tool Calls:\n",
      "  tavily_search_results_json (gg3q3p808)\n",
      " Call ID: gg3q3p808\n",
      "  Args:\n",
      "    query: top 10 recent AI news\n",
      "  add (4tq673fg8)\n",
      " Call ID: 4tq673fg8\n",
      "  Args:\n",
      "    a: 5\n",
      "    b: 6\n",
      "=================================\u001b[1m Tool Message \u001b[0m=================================\n",
      "Name: tavily_search_results_json\n",
      "\n",
      "[{\"title\": \"AI News | June 28–July 4, 2025: Top 10 AI Breakthroughs You Need ...\", \"url\": \"https://medium.com/@CherryZhouTech/ai-news-june-28-july-4-2025-top-10-ai-breakthroughs-you-need-to-know-6960d3f67b3a\", \"content\": \"By automating narrative and asset generation, Game Worlds dramatically lowers game development barriers.\\n\\n## 9. OpenAI Denies Robinhood’s “Tokenized Stock” Claims\\n\\nThe AI firm publicly refuted Robinhood’s EU offering of so-called “OpenAI tokens,” clarifying these represent neither equity nor endorsed partnerships.\\n\\nThe statement follows Robinhood’s controversial announcement about tokenized private company shares.\\n\\n## 10. X Platform Tests AI-Generated Community Notes [...] Amazon’s upgraded AI assistant hit a major milestone with over 1 million registered users since its February 2025 debut. Currently free during betacanxi testing, Alexa+ will become a Prime membership perk, while non-Prime users will pay $19.99/month post-launch.\\n\\n## 5. Gemini Live Expands Integration with Google Ecosystem\\n\\nGemini Live\\n\\nGoogle’s voice assistant now seamlessly connects with Maps, Calendar, Keep, Tasks, and third-party apps like Spotify and YouTube Music. [...] Google’s new feature enables users to schedule one-time or recurring tasks via simple prompts, supporting up to 10 active commands simultaneously.\\n\\nScheduled Actions represents a leap toward truly anticipatory digital assistance.\\n\\n## 8. Runway AI Unveils Text-to-Game Platform “Game Worlds”\\n\\nThe generative AI pioneer’s upcoming platform lets users create text-based adventure games through natural language prompts.\", \"score\": 0.79369855}, {\"title\": \"AI News & Artificial Intelligence | TechCrunch\", \"url\": \"https://techcrunch.com/category/artificial-intelligence/\", \"content\": \"### Pinecone founder Edo Liberty explores the real missing link in enterprise AI at TechCrunch Disrupt 2025\\n\\nRadha Basu\\n\\n### iMerit believes better-quality data, not more data, is the future of AI\\n\\nTechCrunch Disrupt 2024 exhibitor Google\\n\\n### Get your exhibit table at TechCrunch Disrupt 2025\\n\\nAravind Srinivas, co-founder and chief executive officer of Perplexity, during TechCrunch Disrupt in San Francisco, California, US, on Wednesday, Oct. 30, 2024. [...] ### LangChain is about to become a unicorn, sources say\\n\\n### GenAI as a shopping assistant set to explode during Prime Day sales\\n\\n### Mistral is reportedly in talks to raise $1B\\n\\nGettyImages 1066108038\\n\\n### In a blow to Google Cloud, Replit partners with Microsoft\\n\\nAlex Kendall CEO, Wayve\\n\\n### Wayve CEO Alex Kendall brings the future of autonomous AI to TechCrunch Disrupt 2025\\n\\nMati Staniszewski SXSW\\n\\n### Exploring the future of voice AI with Mati Staniszewski at TechCrunch Disrupt 2025 [...] ### Perplexity launches Comet, an AI-powered web browser\\n\\nTechCrunch Early Stage 2024 networking\\n\\n### 6 days until TechCrunch All Stage kicks off in Boston — and up to $475 in ticket savings disappear\\n\\nWear OS 6\\n\\n### Google brings Gemini to Wear OS watches, adds AI Mode to Circle to Search\\n\\n### Moroccan founder raises $4.2M for her YC-backed startup building the next layer of AI search\\n\\nReachy Mini, Hugging Face, robotics\\n\\n### Hugging Face opens up orders for its Reachy Mini desktop robots\", \"score\": 0.7132923}, {\"title\": \"Christian & Timbers: Top 10 AI Leadership Roles of 2025 Driven by ...\", \"url\": \"https://finance.yahoo.com/news/christian-timbers-top-10-ai-120000002.html\", \"content\": \"SAN FRANCISCO, July 09, 2025--(BUSINESS WIRE)--Leadership structures are evolving rapidly as companies move deeper into the large-scale deployment of AI systems. Christian & Timbers’ 2025 Executive Outlook identifies the ten roles most critical to driving performance in this new environment, shaped by advances in large language models, agentic frameworks, and enterprise-grade infrastructure. [...] This shift is visible in the market. Ilya Sutskever, former Chief Scientist at OpenAI, is launching Safe Superintelligence with backing from Daniel Gross and Nat Friedman. The company reportedly raised $100 million in seed capital, with firms competing for access. These moves mirror Christian & Timbers’ data: a 300% rise in AI executive demand across founding, scaling, and platform roles. [...] Chief Product Officer – LLM-Based Platform OwnershipIntegrates models into product roadmaps. Ensures alignment between user feedback, system evolution, and technical delivery.\\n\\nThe hiring wave spans startups and incumbents. Microsoft appointed Mustafa Suleyman as CEO of Microsoft AI and Pamela Maynard as Chief AI Transformation Officer. Meta brought in Alexandr Wang to lead its Superintelligence unit post-acquisition of Scale AI.\", \"score\": 0.6672566}, {\"title\": \"Top 19 AI Newsletters for 2025 - Exploding Topics\", \"url\": \"https://explodingtopics.com/blog/ai-newsletters\", \"content\": \"### 10. AlphaSignal\\n\\nundefined\\n\\nundefined\\n\\nYear Started: 2020\\n\\nNumber of Subscribers: 180,000+\\n\\nSend Schedule: Daily\\n\\nFree Option: Yes\\n\\nPaid Option: No\\n\\nWhat It Is: Tailored toward the technical reader, AlphaSignal is written by an ex-ML engineer and covers the newest AI breakthroughs and top announcements in the industry. Beyond just keeping you informed, each daily digest contains expert insights, coding tips, and trending repos for engineers.\\n\\n### Want to Spy on Your Competition? [...] ### 13. Prompt Engineering Daily\\n\\nundefined\\n\\nundefined\\n\\nYear Started: 2023\\n\\nNumber of Subscribers: 100,000+\\n\\nSend Schedule: Daily\\n\\nFree Option: Yes\\n\\nPaid Option: No\\n\\nWhat It Is: Voted as the Top Artificial Intelligence (AI) Voice on LinkedIn, Aadit Sheth has turned the Prompt Engineering Daily newsletter into a go-to news source for all things AI. Daily topics include insights into the latest news stories and tips and tricks on integrating AI into business and everyday life. [...] What It Is: Labeled as one of the go-to sources for daily updates on the latest developments in AI, The Rundown shares new trending AI projects, ideas on how to use AI, news updates, and related tools and tutorials. According to founder Rowan Cheung, The Rundown grew to over 500,000 subscribers a few months after launching.\\n\\n### 2. Mindstream\\n\\nundefined\\n\\nundefined\\n\\nYear Started: 2023\\n\\nNumber of Subscribers: 130,000+\\n\\nSend Schedule: Daily\\n\\nFree Option: Yes\\n\\nPaid Option: No\", \"score\": 0.6641271}, {\"title\": \"Artificial Intelligence 2025 - Trends And Developments - Mondaq\", \"url\": \"https://www.mondaq.com/unitedstates/new-technology/1643578/artificial-intelligence-2025-trends-and-developments\", \"content\": \"On 11 April 2024, the USPTO released a notice titled\\n\\\"Guidance on Use of Artificial Intelligence-Based Tools in\\nPractice Before the United States Patent and Trademark\\nOffice\\\", which provided guidance on how AI could be ethically\\nused by attorneys and patent agents in the context of prosecuting\\nand obtaining patents before the office. Finally, on 14 January\\n2025, the USPTO announced a new AI Strategy \\\"to guide the\\nagency's efforts toward fulfilling the potential of AI within [...] which must be completed by the end of July 2025. The administration\\nhas made its views towards European regulation and the Biden EO\\nclear through Vice-President JD Vance, who stated at a Paris AI\\nSummit in February that \\\"with the President's recent\\nexecutive order on AI, we're developing an AI Action Plan that\\navoids an overly precautionary regulatory regime while ensuring\\nthat all Americans benefit from the technology and its\\ntransformative potential\\\". [...] these challenges. In January 2025, multiple companies announced\\nProject Stargate, which will invest USD500 billion over four years\\nto build new AI infrastructure.\", \"score\": 0.6543875}]\n",
      "=================================\u001b[1m Tool Message \u001b[0m=================================\n",
      "Name: add\n",
      "\n",
      "11\n",
      "==================================\u001b[1m Ai Message \u001b[0m==================================\n",
      "\n",
      "Here's the information you requested:\n",
      "\n",
      "**Top 10 Recent AI News (2025):**\n",
      "1. **Game Worlds by Runway AI** - Text-to-game platform for creating text-based adventures via natural language.\n",
      "2. **OpenAI Denies Robinhood \"Tokenized Stock\" Claims** - Refuted EU offering of \"OpenAI tokens\" as equity or partnerships.\n",
      "3. **X Platform Tests AI-Generated Community Notes** - Expanding AI moderation and content generation.\n",
      "4. **Amazon Alexa+ Milestone** - 1M+ users for upgraded AI assistant (free during beta, $19.99/month post-beta).\n",
      "5. **Gemini Live Integration** - Google's AI assistant now links with Maps, Calendar, Spotify, etc.\n",
      "6. **Scheduled Actions for Gemini Live** - Users can schedule up to 10 simultaneous AI tasks.\n",
      "7. **Perplexity Launches Comet** - AI-powered web browser for TechCrunch Disrupt.\n",
      "8. **Hugging Face Orders Reachy Mini Robots** - Desktop robots for AI/ML workflows.\n",
      "9. **Wayve CEO on Autonomous AI Future** - Keynote at TechCrunch Disrupt 2025.\n",
      "10. **Mistral in $1B Funding Talks** - Competing with OpenAI and Google for agentic AI dominance.\n",
      "\n",
      "**Math Result:**  \n",
      "(5 + 6) × 59 = **649**  \n",
      "\n",
      "Let me know if you'd like deeper analysis on any of these topics!\n"
     ]
    }
   ],
   "source": [
    "messages = graph.invoke({\"messages\":HumanMessage(content=\"Provide me the top 10 recent AI news and add 5 plus 6 and multipy by 59\")})\n",
    "for m in messages['messages']:\n",
    "    m.pretty_print()"
   ]
  },
  {
   "cell_type": "code",
   "execution_count": null,
   "id": "d4a287ba",
   "metadata": {},
   "outputs": [],
   "source": []
  }
 ],
 "metadata": {
  "kernelspec": {
   "display_name": "Python 3",
   "language": "python",
   "name": "python3"
  },
  "language_info": {
   "codemirror_mode": {
    "name": "ipython",
    "version": 3
   },
   "file_extension": ".py",
   "mimetype": "text/x-python",
   "name": "python",
   "nbconvert_exporter": "python",
   "pygments_lexer": "ipython3",
   "version": "3.12.0"
  }
 },
 "nbformat": 4,
 "nbformat_minor": 5
}
