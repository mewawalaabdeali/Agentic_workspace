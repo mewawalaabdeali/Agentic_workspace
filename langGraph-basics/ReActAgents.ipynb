{
 "cells": [
  {
   "cell_type": "code",
   "execution_count": 29,
   "id": "6c3cffd5",
   "metadata": {},
   "outputs": [],
   "source": [
    "from langchain_community.tools import ArxivQueryRun, WikipediaQueryRun\n",
    "from langchain_community.utilities import WikipediaAPIWrapper, ArxivAPIWrapper"
   ]
  },
  {
   "cell_type": "code",
   "execution_count": 30,
   "id": "4992ad78",
   "metadata": {},
   "outputs": [
    {
     "name": "stdout",
     "output_type": "stream",
     "text": [
      "arxiv\n"
     ]
    }
   ],
   "source": [
    "api_wrapper_arxiv  = ArxivAPIWrapper(top_k_results=2, doc_content_chars_max=500)\n",
    "arxiv = ArxivQueryRun(api_wrapper=api_wrapper_arxiv)\n",
    "print(arxiv.name)"
   ]
  },
  {
   "cell_type": "code",
   "execution_count": 31,
   "id": "79c08d72",
   "metadata": {},
   "outputs": [
    {
     "data": {
      "text/plain": [
       "\"Published: 2024-07-22\\nTitle: Attention Is All You Need But You Don't Need All Of It For Inference of Large Language Models\\nAuthors: Georgy Tyukin, Gbetondji J-S Dovonon, Jean Kaddour, Pasquale Minervini\\nSummary: The inference demand for LLMs has skyrocketed in recent months, and serving\\nmodels with low latencies remains challenging due to the quadratic input length\\ncomplexity of the attention layers. In this work, we investigate the effect of\\ndropping MLP and attention layers at inference time o\""
      ]
     },
     "execution_count": 31,
     "metadata": {},
     "output_type": "execute_result"
    }
   ],
   "source": [
    "arxiv.invoke(\"Attention is all you need\")"
   ]
  },
  {
   "cell_type": "code",
   "execution_count": 32,
   "id": "571d5852",
   "metadata": {},
   "outputs": [
    {
     "data": {
      "text/plain": [
       "'wikipedia'"
      ]
     },
     "execution_count": 32,
     "metadata": {},
     "output_type": "execute_result"
    }
   ],
   "source": [
    "api_wrapper_wiki = WikipediaAPIWrapper(top_k_results=1, doc_content_chars_max=500)\n",
    "wiki = WikipediaQueryRun(api_wrapper=api_wrapper_wiki)\n",
    "wiki.name"
   ]
  },
  {
   "cell_type": "code",
   "execution_count": 33,
   "id": "2305445d",
   "metadata": {},
   "outputs": [
    {
     "data": {
      "text/plain": [
       "'Page: Machine learning\\nSummary: Machine learning (ML) is a field of study in artificial intelligence concerned with the development and study of statistical algorithms that can learn from data and generalise to unseen data, and thus perform tasks without explicit instructions. Within a subdiscipline in machine learning, advances in the field of deep learning have allowed neural networks, a class of statistical algorithms, to surpass many previous machine learning approaches in performance.\\nML fi'"
      ]
     },
     "execution_count": 33,
     "metadata": {},
     "output_type": "execute_result"
    }
   ],
   "source": [
    "wiki.invoke(\"What is Machine Learning\")"
   ]
  },
  {
   "cell_type": "code",
   "execution_count": 34,
   "id": "fbab3c99",
   "metadata": {},
   "outputs": [],
   "source": [
    "from dotenv import load_dotenv\n",
    "load_dotenv()\n",
    "\n",
    "import os\n",
    "\n",
    "os.environ[\"TAVILY_API_KEY\"]=os.getenv(\"TAVILY_API_KEY\")\n",
    "os.environ[\"GROQ_API_KEY\"]=os.getenv(\"GROQ_API_KEY\")\n",
    "os.environ[\"LANGCHAIN_API_KEY\"]=os.getenv(\"LANGCHAIN_API_KEY\")\n",
    "os.environ[\"LANGCHAIN_TRACING_V2\"]=\"true\"\n",
    "os.environ[\"LANGCHAIN_PROJECT\"]=\"ReAct-Agent\""
   ]
  },
  {
   "cell_type": "code",
   "execution_count": 35,
   "id": "9ea1ea47",
   "metadata": {},
   "outputs": [],
   "source": [
    "###Custom functions\n",
    "def multiply(a:int, b:int) -> int:\n",
    "    \"\"\"Multipy a and b.\n",
    "    Args:\n",
    "        a: first int\n",
    "        b: second int\n",
    "    \"\"\"\n",
    "    return a*b\n",
    "\n",
    "def add(a:int, b:int) -> int:\n",
    "    \"\"\"Adds a and b.\n",
    "    Args:\n",
    "        a: first int\n",
    "        b: second int\n",
    "    \"\"\"\n",
    "    return a+b\n",
    "\n",
    "def divide(a:int, b:int) -> int:\n",
    "    \"\"\"Divide a and b.\n",
    "    Args:\n",
    "        a: first int\n",
    "        b: second int\n",
    "    \"\"\"\n",
    "    return a / b\n",
    "\n",
    "tools = [arxiv, wiki, add, multiply, divide]"
   ]
  },
  {
   "cell_type": "code",
   "execution_count": 36,
   "id": "a15fceb2",
   "metadata": {},
   "outputs": [],
   "source": [
    "from langchain_community.tools.tavily_search import TavilySearchResults\n",
    "\n",
    "tavily = TavilySearchResults()"
   ]
  },
  {
   "cell_type": "code",
   "execution_count": 37,
   "id": "8f6c159c",
   "metadata": {},
   "outputs": [],
   "source": [
    "tools = [arxiv, wiki, tavily, add, multiply, divide]"
   ]
  },
  {
   "cell_type": "code",
   "execution_count": 38,
   "id": "80800dcb",
   "metadata": {},
   "outputs": [],
   "source": [
    "from langchain_groq import ChatGroq\n",
    "from langchain_openai import ChatOpenAI\n",
    "\n",
    "model = ChatOpenAI(model = \"gpt-4\")\n",
    "model_with_tools = model.bind_tools(tools)"
   ]
  },
  {
   "cell_type": "code",
   "execution_count": 39,
   "id": "7560e237",
   "metadata": {},
   "outputs": [
    {
     "data": {
      "text/plain": [
       "AIMessage(content='', additional_kwargs={'tool_calls': [{'id': 'call_DpWNuulVwAaDdUb3MEaSXLFD', 'function': {'arguments': '{\\n  \"query\": \"recent AI news\"\\n}', 'name': 'tavily_search_results_json'}, 'type': 'function'}], 'refusal': None}, response_metadata={'token_usage': {'completion_tokens': 21, 'prompt_tokens': 341, 'total_tokens': 362, 'completion_tokens_details': {'accepted_prediction_tokens': 0, 'audio_tokens': 0, 'reasoning_tokens': 0, 'rejected_prediction_tokens': 0}, 'prompt_tokens_details': {'audio_tokens': 0, 'cached_tokens': 0}}, 'model_name': 'gpt-4-0613', 'system_fingerprint': None, 'id': 'chatcmpl-BrSKpRcZoBnhO2HR5lezyn4aC26pS', 'service_tier': 'default', 'finish_reason': 'tool_calls', 'logprobs': None}, id='run--2ef63b64-eea5-4c42-912e-a2d7ca2afee4-0', tool_calls=[{'name': 'tavily_search_results_json', 'args': {'query': 'recent AI news'}, 'id': 'call_DpWNuulVwAaDdUb3MEaSXLFD', 'type': 'tool_call'}], usage_metadata={'input_tokens': 341, 'output_tokens': 21, 'total_tokens': 362, 'input_token_details': {'audio': 0, 'cache_read': 0}, 'output_token_details': {'audio': 0, 'reasoning': 0}})"
      ]
     },
     "execution_count": 39,
     "metadata": {},
     "output_type": "execute_result"
    }
   ],
   "source": [
    "from pprint import pprint\n",
    "from langchain_core.messages import AIMessage, HumanMessage\n",
    "model_with_tools.invoke([HumanMessage(content=f\"What is the recent AI News?\")])"
   ]
  },
  {
   "cell_type": "code",
   "execution_count": 40,
   "id": "c96b340f",
   "metadata": {},
   "outputs": [],
   "source": [
    "from typing_extensions import TypedDict\n",
    "from langchain_core.messages import AnyMessage\n",
    "from typing import Annotated\n",
    "from langgraph.graph.message import add_messages\n",
    "class State(TypedDict):\n",
    "    messages:Annotated[list[AnyMessage], add_messages]"
   ]
  },
  {
   "cell_type": "code",
   "execution_count": 41,
   "id": "bff6af0a",
   "metadata": {},
   "outputs": [
    {
     "data": {
      "image/png": "[encoded data removed]",
      "text/plain": [
       "<IPython.core.display.Image object>"
      ]
     },
     "metadata": {},
     "output_type": "display_data"
    }
   ],
   "source": [
    "from IPython.display import Image, display\n",
    "from langgraph.graph import StateGraph, START, END\n",
    "from langgraph.prebuilt import ToolNode\n",
    "from langgraph.prebuilt import tools_condition\n",
    "\n",
    "def tool_calling_llm(state:State):\n",
    "    return {\"messages\": [model_with_tools.invoke(state[\"messages\"])]}\n",
    "\n",
    "builder = StateGraph(State)\n",
    "builder.add_node(\"tool_calling_llm\", tool_calling_llm)\n",
    "builder.add_node(\"tools\", ToolNode(tools))\n",
    "\n",
    "builder.add_edge(START, \"tool_calling_llm\")\n",
    "builder.add_conditional_edges(\n",
    "    \"tool_calling_llm\",\n",
    "    #If the latest message(result) from assistant is a tool call -> tools_condition routes to tools\n",
    "    #If the latest message(result) from assistant is not a tool call -> tools_condition routes to END\n",
    "    tools_condition,\n",
    ")\n",
    "builder.add_edge(\"tools\", \"tool_calling_llm\")\n",
    "\n",
    "graph = builder.compile()\n",
    "\n",
    "display(Image(graph.get_graph().draw_mermaid_png()))"
   ]
  },
  {
   "cell_type": "code",
   "execution_count": 42,
   "id": "91aadf6a",
   "metadata": {},
   "outputs": [
    {
     "name": "stdout",
     "output_type": "stream",
     "text": [
      "================================\u001b[1m Human Message \u001b[0m=================================\n",
      "\n",
      "Provide me the top 10 recent AI news and add 5 plus 6 and multipy by 59\n",
      "==================================\u001b[1m Ai Message \u001b[0m==================================\n",
      "Tool Calls:\n",
      "  tavily_search_results_json (call_kHWGwXRAnSMgKH0tM7vrB7yZ)\n",
      " Call ID: call_kHWGwXRAnSMgKH0tM7vrB7yZ\n",
      "  Args:\n",
      "    query: recent AI news\n",
      "=================================\u001b[1m Tool Message \u001b[0m=================================\n",
      "Name: tavily_search_results_json\n",
      "\n",
      "[{\"title\": \"The latest AI news we announced in June - Google Blog\", \"url\": \"https://blog.google/technology/ai/google-ai-updates-june-2025/\", \"content\": \"# The latest AI news we announced in June\\n\\nJul 02, 2025\\n\\nHere’s a recap of some of our biggest AI updates from June, including more ways to search with AI Mode, a new way to share your NotebookLM notebooks publicly, and a new AI to help researchers better understand the human genome.\\n\\nSuperG\\n\\n## Basic explainer [...] a text card reading \\\"AI to revolutionize scientific discovery\\\"\\n\\nWe introduced AlphaGenome: AI to better understand the human genome. Our new, unifying DNA sequence model advances regulatory variant-effect prediction and promises to shed new light on genome function. To advance scientific research, we’re making AlphaGenome available in preview via our AlphaGenome API for non-commercial research, with plans to release the model in the future. [...] Search finds new voice, and photos bright,  \\nWhile Chromebooks gain AI's keenest edge,  \\nAnd learning's path is filled with light.\\n\\nGenomes unlock, from knowledge pledge,  \\nAnd robots learn, with vision clear,  \\nWhile cancer's foe meets AI's siege.\\n\\nFrom Google's labs, new AI doth spring,  \\nWith Gemini's models taking flight,  \\nAnd tools for coders, joy to bring.\\n\\nSearch finds new voice, and photos bright,  \\nWhile Chromebooks gain AI's keenest edge,  \\nAnd learning's path is filled with light.\", \"score\": 0.8259413}, {\"title\": \"AI News Digest — July 6, 2025. What's Moving in AI Today? - Medium\", \"url\": \"https://medium.com/predict/ai-news-digest-july-6-2025-53a21b0321c7\", \"content\": \"Sign up\\n\\nSign in\\n\\nSign up\\n\\nSign in\\n\\n## Predict\\n\\nPredict\\n\\nwhere the future is written\\n\\n# AI News Digest — July 6, 2025\\n\\n## What’s Moving in AI Today?\\n\\n@pramodchandrayan\\n\\n--\\n\\nListen\\n\\nShare\\n\\nThe AI world doesn’t sleep, from Europe’s delayed rule-book to Google’s AI for genomics and Japan’s new supercomputer, today’s news reflects a global race to shape the future of artificial intelligence. Regulation, competition, disruption it’s all happening now.\\n\\nHere’s what you need to know: [...] From the EU’s cautious regulatory shuffle to America’s softened federal stance and Japan’s rise in computing power, today’s stories show AI is both a global competition and a local policy challenge. As AI evolves, so too must how we prepare our workforce, protect digital rights, and think about leadership.\\n\\n--\\n\\n--\\n\\nPredict\\nPredict\\n\\n## Published in Predict\\n\\nwhere the future is written\\n\\n@pramodchandrayan\\n@pramodchandrayan\\n\\n## Written by @pramodchandrayan [...] # 3. U.S. Senate Revises Proposed AI Regulation Ban\\n\\nA proposed ten-year block on state AI laws, included in Trump’s “Big Beautiful Bill,” was revised after Senate pushback. The restriction is now five years, with exceptions for child protection and personal data rights (Business Insider, 2025).\", \"score\": 0.7946564}, {\"title\": \"Advancements in AI and Machine Learning\", \"url\": \"https://ep.jhu.edu/news/advancements-in-ai-and-machine-learning/\", \"content\": \"The field of generative AI has seen remarkable progress, particularly with the development of advanced Large Language Models (LLMs). Meta’s recent release of Llama 4 includes models like Scout and Maverick that are designed to handle politically and socially contentious questions more effectively than their predecessors. They demonstrate reduced political bias and can process diverse data types, including text, video, images, and audio. ​ [...] AI algorithms process vast datasets to provide insights that support strategic planning and resource allocation to streamline decision-making. This allows engineers to focus more on innovation and complex problem-solving.\\n\\n## Recent Advancements in AI and Machine Learning\\n\\nThe advancements in AI and ML have exponentially enhanced applications across multiple sectors. Here’s how AI and ML have changed various industries.\\n\\n### Breakthroughs in Generative AI and Large Language Models [...] Today, AI has been seamlessly integrated into everyday life. Advances in ML, natural language processing (NLP), and computer vision have enabled AI to perform ever-more complex tasks such as diagnosing medical conditions, powering autonomous vehicles, and personalizing user experiences in digital platforms.\\n\\nAs AI’s evolution continues, we can expect it to further revolutionize the world through even greater efficiency and new avenues for technological development.\", \"score\": 0.6636041}, {\"title\": \"8 AI and machine learning trends to watch in 2025 | TechTarget\", \"url\": \"https://www.techtarget.com/searchenterpriseai/tip/9-top-AI-and-machine-learning-trends\", \"content\": \"Amid the persistent generative AI hype, it can be easy to forget that the technology is still relatively new. Many people either haven't used it at all or don't use it regularly: A recent research paper found that, as of August 2024, less than half of Americans aged 18 to 64 use generative AI, and just over a quarter use it at work. [...] In a recent newsletter, analyst Benedict Evans compared the boom in generative AI models to the PC industry of the late 1980s and 1990s. In that era, performance comparisons focused on incremental improvements in specs like CPU speed or memory, similar to how today's generative AI models are evaluated on niche technical benchmarks. [...] In a recent public warning, the FBI described several ways cybercriminals are using generative AI for phishing scams and financial fraud. For example, an attacker targeting victims via a deceptive social media profile might write convincing bio text and direct messages with an LLM, while using AI-generated fake photos to lend credibility to the false identity.\", \"score\": 0.6152965}, {\"title\": \"IBM rolls out new chips and servers, aims for simplified AI - Reuters\", \"url\": \"https://www.reuters.com/business/ibm-rolls-out-new-chips-servers-aims-simplified-ai-2025-07-08/\", \"content\": \"Alphabet's Google said it failed this week to resolve disagreements with hotels, airlines and specialised search services such as Skyscanner over how it presents search results, putting it at risk of a hefty European Union antitrust fine. [...] The logo of Saudi Aramco is pictured outside Khurais\\nPeople walk on the esplanade of La Defense\\nSheets of copper cathode are pictured at BHP Billiton's Escondida, the world's biggest copper mine, in Antofagasta\\nEverything Electric, the Home Energy & Electric Vehicle Show, is returning to ExCeL London\\n\\n## Site Index\\n\\n## Browse\\n\\n## About Reuters\\n\\n## Stay Informed\\n\\n## Information you can trust [...] Illustration shows Perplexity AI logo\\nTikTok creators speak out in support of TikTok at the United States Capitol in Washington\\nA NVIDIA logo is pictured on its facility at the High-tech park at Yokne'am\\nIllustration shows xAI Grok logo\\nLSEG Workspace\\n\\n## Business\\n\\nA Google logo is seen at a company research facility in Mountain View, California\\n\\n### Google says discord over search results is unresolved; risks EU antitrust fine\", \"score\": 0.47913864}]\n",
      "==================================\u001b[1m Ai Message \u001b[0m==================================\n",
      "Tool Calls:\n",
      "  add (call_qhUJ5rfz4XcYKpTz0Arx3n6Z)\n",
      " Call ID: call_qhUJ5rfz4XcYKpTz0Arx3n6Z\n",
      "  Args:\n",
      "    a: 5\n",
      "    b: 6\n",
      "=================================\u001b[1m Tool Message \u001b[0m=================================\n",
      "Name: add\n",
      "\n",
      "11\n",
      "==================================\u001b[1m Ai Message \u001b[0m==================================\n",
      "Tool Calls:\n",
      "  multiply (call_KvM3J5rMiV3FCF2khGjKgHea)\n",
      " Call ID: call_KvM3J5rMiV3FCF2khGjKgHea\n",
      "  Args:\n",
      "    a: 11\n",
      "    b: 59\n",
      "=================================\u001b[1m Tool Message \u001b[0m=================================\n",
      "Name: multiply\n",
      "\n",
      "649\n",
      "==================================\u001b[1m Ai Message \u001b[0m==================================\n",
      "\n",
      "Here are the top recent AI news:\n",
      "\n",
      "1. [The latest AI news we announced in June - Google Blog](https://blog.google/technology/ai/google-ai-updates-june-2025/): Google announced a new application of AI to help researchers better understand the human genome. They introduced AlphaGenome, a new, unifying DNA sequence model that advances regulatory variant-effect prediction.\n",
      "\n",
      "2. [AI News Digest — July 6, 2025. What's Moving in AI Today? - Medium](https://medium.com/predict/ai-news-digest-july-6-2025-53a21b0321c7): A news digest highlights several ongoing developments in AI, from Europe’s delayed rule-book to Google’s AI for genomics and Japan’s new supercomputer.\n",
      "\n",
      "3. [Advancements in AI and Machine Learning - Johns Hopkins University](https://ep.jhu.edu/news/advancements-in-ai-and-machine-learning/): Meta’s recent release of Llama 4 includes models that handle contentious questions more effectively, demonstrating reduced political bias and processing diverse data types.\n",
      "\n",
      "4. [8 AI and machine learning trends to watch in 2025 - TechTarget](https://www.techtarget.com/searchenterpriseai/tip/9-top-AI-and-machine-learning-trends): A research paper found that less than half of Americans aged 18 to 64 use generative AI, and just over a quarter use it at work.\n",
      "\n",
      "5. [IBM rolls out new chips and servers, aims for simplified AI - Reuters](https://www.reuters.com/business/ibm-rolls-out-new-chips-servers-aims-simplified-ai-2025-07-08/): IBM has rolled out new chips and servers, aiming for simplified AI applications. \n",
      "\n",
      "Also, the result of adding 5 and 6 and then multiplying by 59 is 649.\n"
     ]
    }
   ],
   "source": [
    "messages = graph.invoke({\"messages\":HumanMessage(content=\"Provide me the top 10 recent AI news and add 5 plus 6 and multipy by 59\")})\n",
    "for m in messages['messages']:\n",
    "    m.pretty_print()"
   ]
  },
  {
   "cell_type": "code",
   "execution_count": 43,
   "id": "d4a287ba",
   "metadata": {},
   "outputs": [
    {
     "name": "stdout",
     "output_type": "stream",
     "text": [
      "================================\u001b[1m Human Message \u001b[0m=================================\n",
      "\n",
      "What is 5 plus 8\n",
      "==================================\u001b[1m Ai Message \u001b[0m==================================\n",
      "Tool Calls:\n",
      "  add (call_TweBzVAqhjdaZEFsEljS2QCE)\n",
      " Call ID: call_TweBzVAqhjdaZEFsEljS2QCE\n",
      "  Args:\n",
      "    a: 5\n",
      "    b: 8\n",
      "=================================\u001b[1m Tool Message \u001b[0m=================================\n",
      "Name: add\n",
      "\n",
      "13\n",
      "==================================\u001b[1m Ai Message \u001b[0m==================================\n",
      "\n",
      "5 plus 8 is 13.\n"
     ]
    }
   ],
   "source": [
    "messages = graph.invoke({\"messages\":HumanMessage(content=\"What is 5 plus 8\")})\n",
    "for m in messages['messages']:\n",
    "    m.pretty_print()"
   ]
  },
  {
   "cell_type": "code",
   "execution_count": 44,
   "id": "f1f4b881",
   "metadata": {},
   "outputs": [
    {
     "name": "stdout",
     "output_type": "stream",
     "text": [
      "================================\u001b[1m Human Message \u001b[0m=================================\n",
      "\n",
      "Divide that by 5\n",
      "==================================\u001b[1m Ai Message \u001b[0m==================================\n",
      "\n",
      "Sorry, could you specify what should I divide by 5?\n"
     ]
    }
   ],
   "source": [
    "messages = [HumanMessage(content=f\"Divide that by 5\")]\n",
    "messages = graph.invoke({\"messages\":messages})\n",
    "for m in messages['messages']:\n",
    "    m.pretty_print()"
   ]
  },
  {
   "cell_type": "code",
   "execution_count": 45,
   "id": "15cf0c34",
   "metadata": {},
   "outputs": [
    {
     "data": {
      "text/plain": [
       "<langgraph.graph.state.StateGraph at 0x1e4cfb76ea0>"
      ]
     },
     "execution_count": 45,
     "metadata": {},
     "output_type": "execute_result"
    }
   ],
   "source": [
    "from IPython.display import Image, display\n",
    "from langgraph.graph import StateGraph, START, END\n",
    "from langgraph.prebuilt import ToolNode\n",
    "from langgraph.prebuilt import tools_condition\n",
    "\n",
    "def tool_calling_llm(state:State):\n",
    "    return {\"messages\": [model_with_tools.invoke(state[\"messages\"])]}\n",
    "\n",
    "builder = StateGraph(State)\n",
    "builder.add_node(\"tool_calling_llm\", tool_calling_llm)\n",
    "builder.add_node(\"tools\", ToolNode(tools))\n",
    "\n",
    "builder.add_edge(START, \"tool_calling_llm\")\n",
    "builder.add_conditional_edges(\n",
    "    \"tool_calling_llm\",\n",
    "    #If the latest message(result) from assistant is a tool call -> tools_condition routes to tools\n",
    "    #If the latest message(result) from assistant is not a tool call -> tools_condition routes to END\n",
    "    tools_condition,\n",
    ")\n",
    "builder.add_edge(\"tools\", \"tool_calling_llm\")\n",
    "\n"
   ]
  },
  {
   "cell_type": "code",
   "execution_count": 46,
   "id": "30b3f729",
   "metadata": {},
   "outputs": [
    {
     "data": {
      "image/png": "[encoded data removed]",
      "text/plain": [
       "<IPython.core.display.Image object>"
      ]
     },
     "metadata": {},
     "output_type": "display_data"
    }
   ],
   "source": [
    "from langgraph.checkpoint.memory import MemorySaver\n",
    "memory = MemorySaver()\n",
    "graph_memory = builder.compile(checkpointer=memory)\n",
    "\n",
    "display(Image(graph_memory.get_graph().draw_mermaid_png()))"
   ]
  },
  {
   "cell_type": "code",
   "execution_count": 47,
   "id": "d3213939",
   "metadata": {},
   "outputs": [
    {
     "name": "stdout",
     "output_type": "stream",
     "text": [
      "================================\u001b[1m Human Message \u001b[0m=================================\n",
      "\n",
      "Add 12 and 13\n",
      "==================================\u001b[1m Ai Message \u001b[0m==================================\n",
      "Tool Calls:\n",
      "  add (call_NY5K4lrQBcQepjjCw3kaXXTb)\n",
      " Call ID: call_NY5K4lrQBcQepjjCw3kaXXTb\n",
      "  Args:\n",
      "    a: 12\n",
      "    b: 13\n",
      "=================================\u001b[1m Tool Message \u001b[0m=================================\n",
      "Name: add\n",
      "\n",
      "25\n",
      "==================================\u001b[1m Ai Message \u001b[0m==================================\n",
      "\n",
      "The sum of 12 and 13 is 25.\n"
     ]
    }
   ],
   "source": [
    "config = {\"configurable\":{\"thread_id\":\"1\"}}\n",
    "messages = [HumanMessage(content=f\"Add 12 and 13\")]\n",
    "messages = graph_memory.invoke({\"messages\":messages}, config=config)\n",
    "for m in messages['messages']:\n",
    "    m.pretty_print()"
   ]
  },
  {
   "cell_type": "code",
   "execution_count": 48,
   "id": "3626ecfd",
   "metadata": {},
   "outputs": [
    {
     "name": "stdout",
     "output_type": "stream",
     "text": [
      "================================\u001b[1m Human Message \u001b[0m=================================\n",
      "\n",
      "Add 12 and 13\n",
      "==================================\u001b[1m Ai Message \u001b[0m==================================\n",
      "Tool Calls:\n",
      "  add (call_NY5K4lrQBcQepjjCw3kaXXTb)\n",
      " Call ID: call_NY5K4lrQBcQepjjCw3kaXXTb\n",
      "  Args:\n",
      "    a: 12\n",
      "    b: 13\n",
      "=================================\u001b[1m Tool Message \u001b[0m=================================\n",
      "Name: add\n",
      "\n",
      "25\n",
      "==================================\u001b[1m Ai Message \u001b[0m==================================\n",
      "\n",
      "The sum of 12 and 13 is 25.\n",
      "================================\u001b[1m Human Message \u001b[0m=================================\n",
      "\n",
      "Add that number to 33\n",
      "==================================\u001b[1m Ai Message \u001b[0m==================================\n",
      "Tool Calls:\n",
      "  add (call_1QatdE9t8ndjTVwa218KeIGh)\n",
      " Call ID: call_1QatdE9t8ndjTVwa218KeIGh\n",
      "  Args:\n",
      "    a: 25\n",
      "    b: 33\n",
      "=================================\u001b[1m Tool Message \u001b[0m=================================\n",
      "Name: add\n",
      "\n",
      "58\n",
      "==================================\u001b[1m Ai Message \u001b[0m==================================\n",
      "\n",
      "The sum of 25 and 33 is 58.\n"
     ]
    }
   ],
   "source": [
    "messages = [HumanMessage(content=f\"Add that number to 33\")]\n",
    "messages = graph_memory.invoke({\"messages\":messages}, config=config)\n",
    "for m in messages['messages']:\n",
    "    m.pretty_print()"
   ]
  },
  {
   "cell_type": "code",
   "execution_count": 49,
   "id": "08afcddb",
   "metadata": {},
   "outputs": [
    {
     "name": "stdout",
     "output_type": "stream",
     "text": [
      "================================\u001b[1m Human Message \u001b[0m=================================\n",
      "\n",
      "Add 12 and 13\n",
      "==================================\u001b[1m Ai Message \u001b[0m==================================\n",
      "Tool Calls:\n",
      "  add (call_NY5K4lrQBcQepjjCw3kaXXTb)\n",
      " Call ID: call_NY5K4lrQBcQepjjCw3kaXXTb\n",
      "  Args:\n",
      "    a: 12\n",
      "    b: 13\n",
      "=================================\u001b[1m Tool Message \u001b[0m=================================\n",
      "Name: add\n",
      "\n",
      "25\n",
      "==================================\u001b[1m Ai Message \u001b[0m==================================\n",
      "\n",
      "The sum of 12 and 13 is 25.\n",
      "================================\u001b[1m Human Message \u001b[0m=================================\n",
      "\n",
      "Add that number to 33\n",
      "==================================\u001b[1m Ai Message \u001b[0m==================================\n",
      "Tool Calls:\n",
      "  add (call_1QatdE9t8ndjTVwa218KeIGh)\n",
      " Call ID: call_1QatdE9t8ndjTVwa218KeIGh\n",
      "  Args:\n",
      "    a: 25\n",
      "    b: 33\n",
      "=================================\u001b[1m Tool Message \u001b[0m=================================\n",
      "Name: add\n",
      "\n",
      "58\n",
      "==================================\u001b[1m Ai Message \u001b[0m==================================\n",
      "\n",
      "The sum of 25 and 33 is 58.\n",
      "================================\u001b[1m Human Message \u001b[0m=================================\n",
      "\n",
      "and then divide that number to 7\n",
      "==================================\u001b[1m Ai Message \u001b[0m==================================\n",
      "Tool Calls:\n",
      "  divide (call_prdCEjDOYgDxxzZwdQdiBrsI)\n",
      " Call ID: call_prdCEjDOYgDxxzZwdQdiBrsI\n",
      "  Args:\n",
      "    a: 58\n",
      "    b: 7\n",
      "=================================\u001b[1m Tool Message \u001b[0m=================================\n",
      "Name: divide\n",
      "\n",
      "8.285714285714286\n",
      "==================================\u001b[1m Ai Message \u001b[0m==================================\n",
      "\n",
      "The result of dividing 58 by 7 is approximately 8.29.\n"
     ]
    }
   ],
   "source": [
    "messages = [HumanMessage(content=f\"and then divide that number to 7\")]\n",
    "messages = graph_memory.invoke({\"messages\":messages}, config=config)\n",
    "for m in messages['messages']:\n",
    "    m.pretty_print()"
   ]
  }
 ],
 "metadata": {
  "kernelspec": {
   "display_name": "Python 3",
   "language": "python",
   "name": "python3"
  },
  "language_info": {
   "codemirror_mode": {
    "name": "ipython",
    "version": 3
   },
   "file_extension": ".py",
   "mimetype": "text/x-python",
   "name": "python",
   "nbconvert_exporter": "python",
   "pygments_lexer": "ipython3",
   "version": "3.12.0"
  }
 },
 "nbformat": 4,
 "nbformat_minor": 5
}
