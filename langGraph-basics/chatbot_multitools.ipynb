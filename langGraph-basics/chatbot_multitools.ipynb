{
 "cells": [
  {
   "cell_type": "code",
   "execution_count": null,
   "id": "73cd7717",
   "metadata": {},
   "outputs": [],
   "source": [
    "from langchain_community.tools import ArxivQueryRun, WikipediaQueryRun\n",
    "from langchain_community.utilities import WikipediaAPIWrapper, ArxivAPIWrapper"
   ]
  },
  {
   "cell_type": "code",
   "execution_count": 2,
   "id": "00bacfad",
   "metadata": {},
   "outputs": [
    {
     "name": "stdout",
     "output_type": "stream",
     "text": [
      "arxiv\n"
     ]
    }
   ],
   "source": [
    "api_wrapper_arxiv = ArxivAPIWrapper(top_k_results=2, doc_content_chars_max=500)\n",
    "arxiv = ArxivQueryRun(api_wrapper=api_wrapper_arxiv)\n",
    "print(arxiv.name)"
   ]
  },
  {
   "cell_type": "code",
   "execution_count": 3,
   "id": "98235aef",
   "metadata": {},
   "outputs": [
    {
     "data": {
      "text/plain": [
       "\"Published: 2024-07-22\\nTitle: Attention Is All You Need But You Don't Need All Of It For Inference of Large Language Models\\nAuthors: Georgy Tyukin, Gbetondji J-S Dovonon, Jean Kaddour, Pasquale Minervini\\nSummary: The inference demand for LLMs has skyrocketed in recent months, and serving\\nmodels with low latencies remains challenging due to the quadratic input length\\ncomplexity of the attention layers. In this work, we investigate the effect of\\ndropping MLP and attention layers at inference time o\""
      ]
     },
     "execution_count": 3,
     "metadata": {},
     "output_type": "execute_result"
    }
   ],
   "source": [
    "arxiv.invoke(\"Attention is all you need\")"
   ]
  },
  {
   "cell_type": "code",
   "execution_count": 4,
   "id": "4b724a0b",
   "metadata": {},
   "outputs": [
    {
     "data": {
      "text/plain": [
       "'wikipedia'"
      ]
     },
     "execution_count": 4,
     "metadata": {},
     "output_type": "execute_result"
    }
   ],
   "source": [
    "api_wrapper_wiki = WikipediaAPIWrapper(top_k_results=1, doc_content_chars_max=500)\n",
    "wiki = WikipediaQueryRun(api_wrapper=api_wrapper_wiki)\n",
    "wiki.name"
   ]
  },
  {
   "cell_type": "code",
   "execution_count": 5,
   "id": "726928f5",
   "metadata": {},
   "outputs": [
    {
     "data": {
      "text/plain": [
       "'Page: Attention Is All You Need\\nSummary: \"Attention Is All You Need\" is a 2017 landmark research paper in machine learning authored by eight scientists working at Google. The paper introduced a new deep learning architecture known as the transformer, based on the attention mechanism proposed in 2014 by Bahdanau et al. It is considered a foundational paper in modern artificial intelligence, and a main contributor to the AI boom, as the transformer approach has become the main architecture of a wi'"
      ]
     },
     "execution_count": 5,
     "metadata": {},
     "output_type": "execute_result"
    }
   ],
   "source": [
    "wiki.invoke(\"Attention is all you need\")"
   ]
  },
  {
   "cell_type": "code",
   "execution_count": 6,
   "id": "8c01ec91",
   "metadata": {},
   "outputs": [],
   "source": [
    "from dotenv import load_dotenv\n",
    "load_dotenv()\n",
    "\n",
    "import os\n",
    "os.environ[\"TAVILY_API_KEY\"]=os.getenv(\"TAVILY_API_KEY\")\n",
    "os.environ[\"GROQ_API_KEY\"]=os.getenv(\"GROQ_API_KEY\")\n",
    "\n"
   ]
  },
  {
   "cell_type": "code",
   "execution_count": 7,
   "id": "c8871e1e",
   "metadata": {},
   "outputs": [
    {
     "name": "stderr",
     "output_type": "stream",
     "text": [
      "C:\\Users\\asus\\AppData\\Local\\Temp\\ipykernel_24100\\1678487253.py:3: LangChainDeprecationWarning: The class `TavilySearchResults` was deprecated in LangChain 0.3.25 and will be removed in 1.0. An updated version of the class exists in the :class:`~langchain-tavily package and should be used instead. To use it run `pip install -U :class:`~langchain-tavily` and import as `from :class:`~langchain_tavily import TavilySearch``.\n",
      "  tavily = TavilySearchResults()\n"
     ]
    },
    {
     "data": {
      "text/plain": [
       "[{'title': 'AI News | Latest AI News, Analysis & Events',\n",
       "  'url': 'https://www.artificialintelligence-news.com/',\n",
       "  'content': 'UK and Singapore form alliance to guide AI in finance · July 4, 2025 ; Study finds AI can slash global carbon emissions · July 2, 2025 ; Anthropic tests AI running',\n",
       "  'score': 0.72559077},\n",
       " {'title': 'The latest AI news we announced in June - Google Blog',\n",
       "  'url': 'https://blog.google/technology/ai/google-ai-updates-june-2025/',\n",
       "  'content': '# The latest AI news we announced in June\\n\\nJul 02, 2025\\n\\nHere’s a recap of some of our biggest AI updates from June, including more ways to search with AI Mode, a new way to share your NotebookLM notebooks publicly, and a new AI to help researchers better understand the human genome.\\n\\nSuperG\\n\\n## Basic explainer [...] For more than 20 years, we’ve invested in machine learning and AI research, tools and infrastructure to build products that make everyday life better for more people. Teams across Google are working on ways to unlock AI’s benefits in fields as wide-ranging as healthcare, crisis response and education. To keep you posted on our progress, we\\'re doing a regular roundup of Google\\'s most recent AI news.\\n\\nHere’s a look back at some of our AI announcements from June. [...] a text card reading \"AI to revolutionize scientific discovery\"\\n\\nWe introduced AlphaGenome: AI to better understand the human genome. Our new, unifying DNA sequence model advances regulatory variant-effect prediction and promises to shed new light on genome function. To advance scientific research, we’re making AlphaGenome available in preview via our AlphaGenome API for non-commercial research, with plans to release the model in the future.',\n",
       "  'score': 0.72184175},\n",
       " {'title': 'AI News & Artificial Intelligence | TechCrunch',\n",
       "  'url': 'https://techcrunch.com/category/artificial-intelligence/',\n",
       "  'content': '### Meta has found another way to keep you engaged: Chatbots that message you first\\n\\nGas turbines are visible at an xAI data center on Riverport Rd in Memphis, TN on April 25, 2025.\\n\\n### xAI gets permits for 15 natural gas generators at Memphis data center\\n\\nMay Habib onstage at TechCrunch Disrupt 2023. AI Writer\\n\\n### Writer CEO May Habib to take the AI Stage at TechCrunch Disrupt 2025\\n\\nThe Google Gemini generative AI logo on a smartphone. [...] ### Google rolls out its new Veo 3 video-generation model globally\\n\\n### AI job predictions become corporate America’s newest competitive sport\\n\\nOpenAI CEO Sam Altman gestures during a session of the World Economic Forum (WEF) meeting in Davos on January 18, 2024. (Photo by FABRICE COFFRINI/AFP via Getty Images)\\n\\n### OpenAI condemns Robinhood’s ‘OpenAI tokens’\\n\\nGoogle Veo presentation at Google I/O 2024\\n\\n### Could Google’s Veo 3 be the start of playable world models? [...] ### Wonder Dynamics co-founder Nikola Todorovic joins the AI Stage at TechCrunch Disrupt 2025\\n\\nMatthew Prince (Cloudflare)\\n\\n### Why Cloudflare wants AI companies to pay for content\\n\\nIlya Sutskever-open ai\\n\\n### Ilya Sutskever will lead Safe Superintelligence following his CEO’s exit\\n\\nKulveer Taggar - Phosphor\\n\\n### Y Combinator alum launched a new $34M fund dedicated to YC startups, backed by Garry Tan\\n\\nMeta AI chatbots',\n",
       "  'score': 0.6977124},\n",
       " {'title': 'Latest AI Breakthroughs and News: May, June, July 2025',\n",
       "  'url': 'https://www.crescendo.ai/news/latest-ai-news-and-updates',\n",
       "  'content': 'Summary: OpenAI unveiled GPT-4.5, the newest iteration of its AI language model, focusing heavily on improved emotional intelligence (EQ). The upgrade',\n",
       "  'score': 0.6698534},\n",
       " {'title': 'The 2025 AI Index Report | Stanford HAI',\n",
       "  'url': 'https://hai.stanford.edu/ai-index/2025-ai-index-report',\n",
       "  'content': '### 2. AI is increasingly embedded in everyday life.\\n\\nFrom healthcare to transportation, AI is rapidly moving from the lab to daily life. In 2023, the FDA approved 223 AI-enabled medical devices, up from just six in 2015. On the roads, self-driving cars are no longer experimental: Waymo, one of the largest U.S. operators, provides over 150,000 autonomous rides each week, while Baidu’s affordable Apollo Go robotaxi fleet now serves numerous cities across China. [...] In 2024, U.S. federal agencies introduced 59 AI-related regulations—more than double the number in 2023—and issued by twice as many agencies. Globally, legislative mentions of AI rose 21.3% across 75 countries since 2023, marking a ninefold increase since 2016. Alongside growing attention, governments are investing at scale: Canada pledged $2.4 billion, China launched a $47.5 billion semiconductor fund, France committed €109 billion, India pledged $1.25 billion, and Saudi Arabia’s Project [...] In 2024, U.S. private AI investment grew to $109.1 billion—nearly 12 times China’s $9.3 billion and 24 times the U.K.’s $4.5 billion. Generative AI saw particularly strong momentum, attracting $33.9 billion globally in private investment—an 18.7% increase from 2023. AI business usage is also accelerating: 78% of organizations reported using AI in 2024, up from 55% the year before. Meanwhile, a growing body of research confirms that AI boosts productivity and, in most cases, helps narrow skill',\n",
       "  'score': 0.6506676}]"
      ]
     },
     "execution_count": 7,
     "metadata": {},
     "output_type": "execute_result"
    }
   ],
   "source": [
    "from langchain_community.tools.tavily_search import TavilySearchResults\n",
    "\n",
    "tavily = TavilySearchResults()\n",
    "\n",
    "tavily.invoke(\"Provide me the recent AI news\")"
   ]
  },
  {
   "cell_type": "code",
   "execution_count": 8,
   "id": "b1a4d493",
   "metadata": {},
   "outputs": [],
   "source": [
    "###Combine all the tools in the list\n",
    "\n",
    "tools = [arxiv, wiki, tavily]\n"
   ]
  },
  {
   "cell_type": "code",
   "execution_count": 9,
   "id": "d3f76fc8",
   "metadata": {},
   "outputs": [],
   "source": [
    "from langchain_groq import ChatGroq\n",
    "\n",
    "model = ChatGroq(model = \"qwen/qwen3-32b\")\n",
    "model_with_tools = model.bind_tools(tools)"
   ]
  },
  {
   "cell_type": "code",
   "execution_count": 11,
   "id": "e6d0454b",
   "metadata": {},
   "outputs": [
    {
     "data": {
      "text/plain": [
       "AIMessage(content='', additional_kwargs={'reasoning_content': 'Okay, the user is asking for recent AI news. Let me see which tool I can use here. The available tools are arxiv, wikipedia, and tavily_search_results_json. \\n\\nArxiv is good for academic papers, but the user might be looking for more general news. Wikipedia is for encyclopedic information, which might not be the latest. Tavily_search_results_json sounds like a search engine that can fetch recent news articles. \\n\\nSo, I should use tavily_search_results_json with the query \"recent AI news\" to get the latest updates. That should provide the user with the most current information available.\\n', 'tool_calls': [{'id': 'z62d3fshw', 'function': {'arguments': '{\"query\":\"recent AI news\"}', 'name': 'tavily_search_results_json'}, 'type': 'function'}]}, response_metadata={'token_usage': {'completion_tokens': 159, 'prompt_tokens': 266, 'total_tokens': 425, 'completion_time': 0.250866692, 'prompt_time': 0.016412936, 'queue_time': 0.201888588, 'total_time': 0.267279628}, 'model_name': 'qwen/qwen3-32b', 'system_fingerprint': 'fp_8487b76fd3', 'finish_reason': 'tool_calls', 'logprobs': None}, id='run--d6de9bc6-c3e7-41c8-b6e6-17c8e791dbf9-0', tool_calls=[{'name': 'tavily_search_results_json', 'args': {'query': 'recent AI news'}, 'id': 'z62d3fshw', 'type': 'tool_call'}], usage_metadata={'input_tokens': 266, 'output_tokens': 159, 'total_tokens': 425})"
      ]
     },
     "execution_count": 11,
     "metadata": {},
     "output_type": "execute_result"
    }
   ],
   "source": [
    "from pprint import pprint\n",
    "from langchain_core.messages import AIMessage, HumanMessage\n",
    "model_with_tools.invoke([HumanMessage(content=f\"What is the recent AI news\")])"
   ]
  },
  {
   "cell_type": "code",
   "execution_count": 12,
   "id": "2a60e74c",
   "metadata": {},
   "outputs": [
    {
     "data": {
      "text/plain": [
       "[{'name': 'tavily_search_results_json',\n",
       "  'args': {'query': 'recent AI news'},\n",
       "  'id': '3e1ajydac',\n",
       "  'type': 'tool_call'}]"
      ]
     },
     "execution_count": 12,
     "metadata": {},
     "output_type": "execute_result"
    }
   ],
   "source": [
    "model_with_tools.invoke([HumanMessage(content=f\"What is the recent AI news\")]).tool_calls"
   ]
  },
  {
   "cell_type": "code",
   "execution_count": 13,
   "id": "7d168e6a",
   "metadata": {},
   "outputs": [],
   "source": [
    "from typing_extensions import TypedDict\n",
    "from langchain_core.messages import AnyMessage\n",
    "from typing import Annotated\n",
    "from langgraph.graph.message import add_messages\n",
    "\n",
    "class State(TypedDict):\n",
    "    messages:Annotated[list[AnyMessage], add_messages]"
   ]
  },
  {
   "cell_type": "code",
   "execution_count": null,
   "id": "71df59dd",
   "metadata": {},
   "outputs": [],
   "source": [
    "###Entire chatbot with LangGraph\n",
    "from IPython.display import Image, display\n",
    "from langgraph.graph import StateGraph, START, END\n",
    "from langgraph.prebuilt import ToolNode\n",
    "from langgraph.prebuilt import tools_condition\n",
    "\n",
    "def tool_calling_llm(state:State):\n",
    "    return {\"messages\":[model_with_tools.invoke(state[\"messages\"])]}\n",
    "\n",
    "builder = StateGraph(State)\n",
    "builder.add_node(\"tool_calling_llm\", tool_calling_llm)\n",
    "builder.add_node(\"tools\", ToolNode(tools))\n",
    "\n",
    "builder.add_edge(START, \"tool_calling_llm\")\n",
    "builder.add_conditional_edges(\n",
    "    \"tool_calling_llm\",\n",
    "    #if the lastest message(result) from assistant is a tool call -> tools_condition routes to tools\n",
    "    #if the latest message(result) from assistant is not a tool call -> tools_condition routes to END\n",
    "    tools_condition\n",
    ")\n",
    "builder.add_edge(\"tools\", END)"
   ]
  }
 ],
 "metadata": {
  "kernelspec": {
   "display_name": "Python 3",
   "language": "python",
   "name": "python3"
  },
  "language_info": {
   "codemirror_mode": {
    "name": "ipython",
    "version": 3
   },
   "file_extension": ".py",
   "mimetype": "text/x-python",
   "name": "python",
   "nbconvert_exporter": "python",
   "pygments_lexer": "ipython3",
   "version": "3.12.0"
  }
 },
 "nbformat": 4,
 "nbformat_minor": 5
}
