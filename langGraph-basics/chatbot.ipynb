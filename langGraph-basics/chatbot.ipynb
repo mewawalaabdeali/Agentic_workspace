{
 "cells": [
  {
   "cell_type": "code",
   "execution_count": 2,
   "id": "b2bcfa59",
   "metadata": {},
   "outputs": [],
   "source": [
    "from typing_extensions import TypedDict\n",
    "from langgraph.graph import StateGraph, START, END\n",
    "\n",
    "from typing import Annotated\n",
    "from langgraph.graph.message import add_messages"
   ]
  },
  {
   "cell_type": "code",
   "execution_count": 3,
   "id": "5266df38",
   "metadata": {},
   "outputs": [],
   "source": [
    "class State(TypedDict):\n",
    "    messages:Annotated[list, add_messages]"
   ]
  },
  {
   "cell_type": "code",
   "execution_count": 4,
   "id": "70d8a330",
   "metadata": {},
   "outputs": [],
   "source": [
    "import os\n",
    "from dotenv import load_dotenv\n",
    "load_dotenv()\n",
    "\n",
    "os.environ[\"OPENAI_API_KEY\"] = os.getenv(\"OPENAI_API_KEY\")\n",
    "os.environ[\"GROQ_API_KEY\"] = os.getenv(\"GROQ_API_KEY\")"
   ]
  },
  {
   "cell_type": "code",
   "execution_count": 6,
   "id": "c46b93b2",
   "metadata": {},
   "outputs": [
    {
     "data": {
      "text/plain": [
       "AIMessage(content='Hello! How can I assist you today?', additional_kwargs={'refusal': None}, response_metadata={'token_usage': {'completion_tokens': 9, 'prompt_tokens': 8, 'total_tokens': 17, 'completion_tokens_details': {'accepted_prediction_tokens': 0, 'audio_tokens': 0, 'reasoning_tokens': 0, 'rejected_prediction_tokens': 0}, 'prompt_tokens_details': {'audio_tokens': 0, 'cached_tokens': 0}}, 'model_name': 'gpt-4o-mini-2024-07-18', 'system_fingerprint': 'fp_34a54ae93c', 'id': 'chatcmpl-BpN4RWy1J8WfiusCbLbgKW5pgMsFm', 'service_tier': 'default', 'finish_reason': 'stop', 'logprobs': None}, id='run--b38032a3-b836-4f66-8393-4b03772d6827-0', usage_metadata={'input_tokens': 8, 'output_tokens': 9, 'total_tokens': 17, 'input_token_details': {'audio': 0, 'cache_read': 0}, 'output_token_details': {'audio': 0, 'reasoning': 0}})"
      ]
     },
     "execution_count": 6,
     "metadata": {},
     "output_type": "execute_result"
    }
   ],
   "source": [
    "from langchain_openai import ChatOpenAI\n",
    "\n",
    "llm = ChatOpenAI(model = \"gpt-4o-mini\")\n",
    "llm.invoke(\"Hello\")"
   ]
  },
  {
   "cell_type": "code",
   "execution_count": 9,
   "id": "548c798d",
   "metadata": {},
   "outputs": [
    {
     "data": {
      "text/plain": [
       "AIMessage(content='\\n<think>\\nOkay, the user wants to play cricket. Let me think about how to help them.\\n\\nFirst, I should consider if they have a place to play. Cricket needs a suitable area, maybe a park or backyard. If not, maybe suggest alternatives like indoor cricket or a smaller version.\\n\\nThey might need equipment. The basics are a bat, ball, wickets, stumps, and bails. If they don\\'t have these, maybe recommend substitutes. For example, a soft ball for safety, or using items around the house for wickets.\\n\\nNumber of players is another point. A full game has 11 each, but for casual play, fewer can work. Maybe suggest a friendly match with 4-6 players each, or even a solo practice session.\\n\\nRules are important. They might not know the basics, so a quick overview would help: batting, bowling, fielding, scoring runs, outs. Maybe mention common ways to get out like getting bowled, caught, or run out.\\n\\nSafety is key, especially if they\\'re playing in a small space. Emphasize soft balls, clear the area, and maybe use helmets if available.\\n\\nAlternatives if they can\\'t play physically: online games or fantasy cricket. Or maybe suggest joining a local league or club if they\\'re serious.\\n\\nWait, maybe they just want to start a game right now. So quick steps to organize a game: pick teams, set up the pitch, decide overs, and start playing. Also, maybe some tips for a first-time game, like keeping the rules simple and focusing on fun.\\n\\nI should also check if they\\'re looking for more info on specific aspects, like how to bowl or bat properly. But since they just said \"I need to play cricket,\" maybe just the basics to get started.\\n\\nMake sure the response is encouraging and easy to follow. Offer further help if needed.\\n</think>\\n\\nGreat! Let’s get you playing cricket. Here’s a quick guide to help you start:\\n\\n---\\n\\n### **1. Find a Space**\\n- **Outdoor**: A park, open field, or backyard works best. A standard cricket pitch is 20-22 yards long, but you can mark a smaller area with chalk, tape, or cones.\\n- **Indoor**: If indoors, use a soft ball (like a tennis or soft-core cricket ball) and set up in a garage or large room.\\n- **Small groups**: Even a driveway or street can work for casual play.\\n\\n---\\n\\n### **2. Gather Equipment**\\nBasic essentials:\\n- **Bat**: A regular cricket bat or a makeshift one (e.g., a baseball bat in a pinch).\\n- **Ball**: A standard cricket ball (hard for adults, softer for kids or safety).\\n- **Stumps & Bails**: If you don’t have official wickets, use:\\n  - **Stumps**: Three sticks (pens, pencils, or small broomsticks) stuck in the ground.\\n  - **Bails**: Use small sticks or even straws.\\n- **Boundary Markers**: Use cones, chalk, or items like jackets to mark the edge of the field.\\n\\n---\\n\\n### **3. Assemble Players**\\n- **Teams**: Cricket is usually 11-a-side, but you can play with as few as 2-4 players per team. For a solo or casual game:\\n  - **Solo practice**: Bat against a wall or practice bowling.\\n  - **Pairs**: Two players per side (batting, bowling, and fielding turn-by-turn).\\n  - **Friends/family**: Recruit anyone nearby!\\n\\n---\\n\\n### **4. Set Up the Game**\\n- **Pitch**: Mark a 20–22 yard strip for the pitch (or shorter for casual play).\\n- **Wickets**: Place stumps at each end of the pitch (use the makeshift ones if needed).\\n- **Boundaries**: Mark the edge of the field (e.g., a circle or rectangle) to score 4/6 runs.\\n\\n---\\n\\n### **5. Basic Rules (Simplified)**\\n- **Objective**: Score as many runs as possible while batting, and dismiss the opponent’s batters.\\n- **Batting**: Hit the ball and run between the wickets to score runs (1 run per sprint). Hitting the ball to the boundary scores 4 (four) runs (if the ball bounces before landing) or 6 (if it clears the boundary without bouncing).\\n- **Bowling**: The bowler bowls the ball toward the batter. If the batter misses and the ball hits the stumps, they’re out (*bowled*). \\n- **Fielding**: Fielders catch the ball *on the fly* to get the batter *caught out*, or run the batter out (*run out*).\\n- **Outs**: Common ways to get out:\\n  - Bowled (ball hits the stumps).\\n  - Caught (fielder catches the ball without it bouncing).\\n  - Run out (fielder hits the stumps while the batter is out of their \"crease\").\\n  - LBW (Leg Before Wicket; the ball would’ve hit the stumps but hit the batter’s leg first).\\n\\n---\\n\\n### **6. Quick Game Setup for Casual Play**\\n- **Overs**: Decide how many \"overs\" (sets of 6 balls) per team (e.g., 5 overs per side).\\n- **Teams**: Divide into two teams (even if just 2 vs. 2).\\n- **Start Playing**:\\n  1. One team bats first, trying to score runs.\\n  2. The other team bowls and fields.\\n  3. Switch roles after the batting team is all out or the overs are completed.\\n  4. The team with the most runs wins!\\n\\n---\\n\\n### **Tips for Beginners**\\n- **Safety First**: Use a soft ball if kids are playing or space is limited.\\n- **Keep It Fun**: Simplify rules (e.g., no LBW, or let everyone have a turn batting).\\n- **Practice**: If playing alone, practice batting against a wall or bowling at the stumps.\\n\\n---\\n\\n### **Alternatives If You Can’t Play Physically**\\n- **Online**: Try games like *Cricket Stars* or *DreamCricket*.\\n- **Fantasy Cricket**: Join platforms like *Dream11* to pick virtual teams.\\n- **Watch & Learn**: Stream a match to pick up strategies!\\n\\n---\\n\\n### **Need More Help?**\\nLet me know if you want:\\n- **Detailed rules**.\\n- **Coaching tips** (e.g., how to bowl, bat, or field).\\n- **Nearby places/clubs** to play.\\n\\nGrab your gear and get ready to smash those boundaries! 🏏', additional_kwargs={}, response_metadata={'token_usage': {'completion_tokens': 1379, 'prompt_tokens': 16, 'total_tokens': 1395, 'completion_time': 3.43679458, 'prompt_time': 0.003494629, 'queue_time': 0.12249596800000001, 'total_time': 3.440289209}, 'model_name': 'qwen-qwq-32b', 'system_fingerprint': 'fp_98b01f25b2', 'finish_reason': 'stop', 'logprobs': None}, id='run--1d677d8f-ae3c-4708-8013-aed2a9c1a905-0', usage_metadata={'input_tokens': 16, 'output_tokens': 1379, 'total_tokens': 1395})"
      ]
     },
     "execution_count": 9,
     "metadata": {},
     "output_type": "execute_result"
    }
   ],
   "source": [
    "from langchain_groq import ChatGroq\n",
    "\n",
    "llm_groq = ChatGroq(model = \"qwen-qwq-32b\")\n",
    "llm_groq.invoke(\"Hey I need to play cricket\")"
   ]
  },
  {
   "cell_type": "code",
   "execution_count": 10,
   "id": "df8e979d",
   "metadata": {},
   "outputs": [],
   "source": [
    "def superbot(state:State):\n",
    "    return {\"messages\":[llm_groq.invoke(state['messages'])]}\n"
   ]
  },
  {
   "cell_type": "code",
   "execution_count": 11,
   "id": "9ac895cc",
   "metadata": {},
   "outputs": [
    {
     "data": {
      "image/png": "[encoded data removed]",
      "text/plain": [
       "<IPython.core.display.Image object>"
      ]
     },
     "metadata": {},
     "output_type": "display_data"
    }
   ],
   "source": [
    "graph = StateGraph(State)\n",
    "graph.add_node(\"SuperBot\", superbot)\n",
    "\n",
    "##Edges\n",
    "graph.add_edge(START, \"SuperBot\")\n",
    "graph.add_edge(\"SuperBot\", END)\n",
    "\n",
    "graph_builder= graph.compile()\n",
    "\n",
    "#Display\n",
    "from IPython.display import Image, display\n",
    "display(Image(graph_builder.get_graph().draw_mermaid_png()))"
   ]
  },
  {
   "cell_type": "code",
   "execution_count": 12,
   "id": "603382ee",
   "metadata": {},
   "outputs": [
    {
     "data": {
      "text/plain": [
       "{'messages': [HumanMessage(content='Hi, My name is Ali and I like cricket', additional_kwargs={}, response_metadata={}, id='8014b187-e8f1-4d50-9ef0-9fa84cc6a0be'),\n",
       "  AIMessage(content=\"\\n<think>\\nOkay, so Ali just introduced himself and mentioned he likes cricket. I need to respond in a friendly way. Let me start by greeting him back. I should acknowledge his name and his interest in cricket. Maybe ask how he got into the sport or if he has a favorite team or player? That should keep the conversation going. I should also make sure to be enthusiastic to show genuine interest. Let me check if there's anything else I should consider. Oh right, maybe mention that cricket is a popular sport worldwide, so that connects with his interest. I should avoid making it too long, keep it conversational. Alright, let's put that together.\\n</think>\\n\\nHi Ali! Nice to meet you! That's great that you like cricket—what a thrilling sport! Do you have a favorite team or player? And are you into playing, watching, or maybe even following the latest matches? Let me know—I’d love to chat about it! ⚾\", additional_kwargs={}, response_metadata={'token_usage': {'completion_tokens': 195, 'prompt_tokens': 20, 'total_tokens': 215, 'completion_time': 0.449230088, 'prompt_time': 0.003194513, 'queue_time': 0.06884464900000001, 'total_time': 0.452424601}, 'model_name': 'qwen-qwq-32b', 'system_fingerprint': 'fp_28178d7ff6', 'finish_reason': 'stop', 'logprobs': None}, id='run--3e5520f2-b438-4f94-adfc-1815e4220500-0', usage_metadata={'input_tokens': 20, 'output_tokens': 195, 'total_tokens': 215})]}"
      ]
     },
     "execution_count": 12,
     "metadata": {},
     "output_type": "execute_result"
    }
   ],
   "source": [
    "graph_builder.invoke({'messages':\"Hi, My name is Ali and I like cricket\"})"
   ]
  },
  {
   "cell_type": "code",
   "execution_count": 15,
   "id": "fd81cf9c",
   "metadata": {},
   "outputs": [
    {
     "name": "stdout",
     "output_type": "stream",
     "text": [
      "{'messages': [HumanMessage(content='Hello my name is Ali', additional_kwargs={}, response_metadata={}, id='acbfa815-dbee-45a2-94ba-04102019938c')]}\n",
      "{'messages': [HumanMessage(content='Hello my name is Ali', additional_kwargs={}, response_metadata={}, id='acbfa815-dbee-45a2-94ba-04102019938c'), AIMessage(content='\\n<think>\\nOkay, the user said \"Hello my name is Ali.\" I need to respond appropriately. First, I should greet them back. Maybe say hello and mention their name to make it personal. I should keep it friendly and open-ended so they feel comfortable continuing the conversation. Let me think of a simple response like, \"Hello Ali! Nice to meet you. How can I assist you today?\" That sounds good. It\\'s friendly, acknowledges their name, and invites them to state their needs. I should check for any typos or errors. Nope, looks good. Alright, that should work.\\n</think>\\n\\nHello Ali! Nice to meet you. How can I assist you today?', additional_kwargs={}, response_metadata={'token_usage': {'completion_tokens': 138, 'prompt_tokens': 15, 'total_tokens': 153, 'completion_time': 0.319956527, 'prompt_time': 0.002716257, 'queue_time': 0.078619842, 'total_time': 0.322672784}, 'model_name': 'qwen-qwq-32b', 'system_fingerprint': 'fp_28178d7ff6', 'finish_reason': 'stop', 'logprobs': None}, id='run--015f5b97-ad72-477e-9d37-bf5e2e17e4d5-0', usage_metadata={'input_tokens': 15, 'output_tokens': 138, 'total_tokens': 153})]}\n"
     ]
    }
   ],
   "source": [
    "for event in graph_builder.stream({'messages':\"Hello my name is Ali\"}, stream_mode=\"values\"):\n",
    "    print(event)"
   ]
  }
 ],
 "metadata": {
  "kernelspec": {
   "display_name": "Python 3",
   "language": "python",
   "name": "python3"
  },
  "language_info": {
   "codemirror_mode": {
    "name": "ipython",
    "version": 3
   },
   "file_extension": ".py",
   "mimetype": "text/x-python",
   "name": "python",
   "nbconvert_exporter": "python",
   "pygments_lexer": "ipython3",
   "version": "3.12.0"
  }
 },
 "nbformat": 4,
 "nbformat_minor": 5
}
